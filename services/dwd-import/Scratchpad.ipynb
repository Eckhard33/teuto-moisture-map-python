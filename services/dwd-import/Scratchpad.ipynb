{
 "cells": [
  {
   "cell_type": "code",
   "execution_count": 2,
   "metadata": {},
   "outputs": [],
   "source": [
    "from dwd_import.dwd_stations import get_stations, nearest_active_station, nearest_station, get_precipitation"
   ]
  },
  {
   "cell_type": "code",
   "execution_count": 3,
   "metadata": {},
   "outputs": [
    {
     "data": {
      "text/plain": [
       "[DWDStation(station_id='19467', data_since=datetime.date(2022, 6, 7), data_until=datetime.date(2022, 8, 18), height=24, lon=51.6652, lat=6.2581, name='Uedem/Niederrhein', state='Nordrhein-Westfalen', historic_precipitation_dataset_url=None),\n",
       " DWDStation(station_id='19469', data_since=datetime.date(2022, 6, 6), data_until=datetime.date(2022, 8, 18), height=29, lon=51.4077, lat=6.3243, name='Wachtendonk/Niederrhein', state='Nordrhein-Westfalen', historic_precipitation_dataset_url=None),\n",
       " DWDStation(station_id='19472', data_since=datetime.date(1951, 1, 1), data_until=datetime.date(2005, 12, 31), height=268, lon=49.7089, lat=10.9006, name='Adelsdorf', state='Bayern', historic_precipitation_dataset_url=None)]"
      ]
     },
     "execution_count": 3,
     "metadata": {},
     "output_type": "execute_result"
    }
   ],
   "source": [
    "get_stations()[-3:]"
   ]
  },
  {
   "cell_type": "code",
   "execution_count": 4,
   "metadata": {},
   "outputs": [
    {
     "data": {
      "text/plain": [
       "DWDStation(station_id='00486', data_since=datetime.date(1941, 1, 1), data_until=datetime.date(2007, 12, 31), height=155, lon=51.9833, lat=8.5167, name='Bielefeld-Brackwede', state='Nordrhein-Westfalen', historic_precipitation_dataset_url='https://opendata.dwd.de/climate_environment/CDC/observations_germany/climate/daily/more_precip/historical/tageswerte_RR_00486_19410101_20071231_hist.zip')"
      ]
     },
     "execution_count": 4,
     "metadata": {},
     "output_type": "execute_result"
    }
   ],
   "source": [
    "nearest_station(52,8.53)"
   ]
  },
  {
   "cell_type": "code",
   "execution_count": 5,
   "metadata": {},
   "outputs": [
    {
     "data": {
      "text/plain": [
       "DWDStation(station_id='00488', data_since=datetime.date(1941, 1, 1), data_until=datetime.date(2022, 8, 18), height=127, lon=51.9394, lat=8.5932, name='Bielefeld-Sennestadt', state='Nordrhein-Westfalen', historic_precipitation_dataset_url='https://opendata.dwd.de/climate_environment/CDC/observations_germany/climate/daily/more_precip/historical/tageswerte_RR_00488_19410101_20211231_hist.zip')"
      ]
     },
     "execution_count": 5,
     "metadata": {},
     "output_type": "execute_result"
    }
   ],
   "source": [
    "nearest_active_station(52,8.53)"
   ]
  },
  {
   "cell_type": "code",
   "execution_count": 6,
   "metadata": {},
   "outputs": [
    {
     "name": "stdout",
     "output_type": "stream",
     "text": [
      "2021-12-17: 1.0\n",
      "2021-12-18: 1.4\n",
      "2021-12-19: 1.5\n",
      "2021-12-20: 0.0\n",
      "2021-12-21: 0.0\n",
      "2021-12-22: 0.0\n",
      "2021-12-23: 12.8\n",
      "2021-12-24: 4.4\n",
      "2021-12-25: 0.0\n",
      "2021-12-26: 0.2\n",
      "2021-12-27: 0.7\n",
      "2021-12-28: 5.0\n",
      "2021-12-29: 7.3\n",
      "2021-12-30: 2.1\n",
      "2021-12-31: 0.6\n"
     ]
    }
   ],
   "source": [
    "data = get_precipitation(nearest_active_station(52,8.53))[-10:]\n",
    "for x in data[-30:]:\n",
    "        print(f\"{x.date}: {x.precipitation}\")"
   ]
  }
 ],
 "metadata": {
  "kernelspec": {
   "display_name": "Python 3.9.13 ('dwd-import-41Fmd9fX-py3.9')",
   "language": "python",
   "name": "python3"
  },
  "language_info": {
   "codemirror_mode": {
    "name": "ipython",
    "version": 3
   },
   "file_extension": ".py",
   "mimetype": "text/x-python",
   "name": "python",
   "nbconvert_exporter": "python",
   "pygments_lexer": "ipython3",
   "version": "3.9.13"
  },
  "orig_nbformat": 4,
  "vscode": {
   "interpreter": {
    "hash": "feda96863fb9a1ee53ad5b92e3202b4cc98dbfc5f5d82d538e2fb9df66dcc647"
   }
  }
 },
 "nbformat": 4,
 "nbformat_minor": 2
}
