{
 "cells": [
  {
   "cell_type": "code",
   "execution_count": 1,
   "metadata": {},
   "outputs": [],
   "source": [
    "import os, sys\n",
    "sys.path.insert(0, os.path.abspath('src'))"
   ]
  },
  {
   "cell_type": "code",
   "execution_count": 2,
   "metadata": {},
   "outputs": [],
   "source": [
    "from dwd_stations import get_stations, neares_active_station, neares_station, get_preciptation"
   ]
  },
  {
   "cell_type": "code",
   "execution_count": 3,
   "metadata": {},
   "outputs": [
    {
     "data": {
      "text/plain": [
       "[DWDStation(station_id='19436', data_since=datetime.date(2022, 4, 1), data_until=datetime.date(2022, 7, 14), height=631, lon=50.2073, lat=12.3003, name='Brambach, Bad-Hohendorf', state='Sachsen', historic_precipitation_dataset_url=None),\n",
       " DWDStation(station_id='19439', data_since=datetime.date(1931, 1, 1), data_until=datetime.date(1957, 12, 31), height=450, lon=49.7542, lat=7.0523, name='Deuselbach/Hunsrück', state='Rheinland-Pfalz', historic_precipitation_dataset_url=None),\n",
       " DWDStation(station_id='19472', data_since=datetime.date(1951, 1, 1), data_until=datetime.date(2005, 12, 31), height=268, lon=49.7089, lat=10.9006, name='Adelsdorf', state='Bayern', historic_precipitation_dataset_url=None)]"
      ]
     },
     "execution_count": 3,
     "metadata": {},
     "output_type": "execute_result"
    }
   ],
   "source": [
    "get_stations()[-3:]"
   ]
  },
  {
   "cell_type": "code",
   "execution_count": 4,
   "metadata": {},
   "outputs": [
    {
     "data": {
      "text/plain": [
       "DWDStation(station_id='00486', data_since=datetime.date(1941, 1, 1), data_until=datetime.date(2007, 12, 31), height=155, lon=51.9833, lat=8.5167, name='Bielefeld-Brackwede', state='Nordrhein-Westfalen', historic_precipitation_dataset_url='https://opendata.dwd.de/climate_environment/CDC/observations_germany/climate/daily/more_precip/historical/tageswerte_RR_00486_19410101_20071231_hist.zip')"
      ]
     },
     "execution_count": 4,
     "metadata": {},
     "output_type": "execute_result"
    }
   ],
   "source": [
    "neares_station(52,8.53)"
   ]
  },
  {
   "cell_type": "code",
   "execution_count": 5,
   "metadata": {},
   "outputs": [
    {
     "data": {
      "text/plain": [
       "DWDStation(station_id='00488', data_since=datetime.date(1941, 1, 1), data_until=datetime.date(2022, 7, 14), height=127, lon=51.9394, lat=8.5932, name='Bielefeld-Sennestadt', state='Nordrhein-Westfalen', historic_precipitation_dataset_url='https://opendata.dwd.de/climate_environment/CDC/observations_germany/climate/daily/more_precip/historical/tageswerte_RR_00488_19410101_20211231_hist.zip')"
      ]
     },
     "execution_count": 5,
     "metadata": {},
     "output_type": "execute_result"
    }
   ],
   "source": [
    "neares_active_station(52,8.53)"
   ]
  },
  {
   "cell_type": "code",
   "execution_count": 6,
   "metadata": {},
   "outputs": [
    {
     "name": "stdout",
     "output_type": "stream",
     "text": [
      "2021-12-22: 0.0\n",
      "2021-12-23: 12.8\n",
      "2021-12-24: 4.4\n",
      "2021-12-25: 0.0\n",
      "2021-12-26: 0.2\n",
      "2021-12-27: 0.7\n",
      "2021-12-28: 5.0\n",
      "2021-12-29: 7.3\n",
      "2021-12-30: 2.1\n",
      "2021-12-31: 0.6\n"
     ]
    }
   ],
   "source": [
    "data = get_preciptation(neares_active_station(52,8.53))[-10:]\n",
    "for x in data[-30:]:\n",
    "        print(f\"{x.date}: {x.preciptation}\")"
   ]
  }
 ],
 "metadata": {
  "kernelspec": {
   "display_name": "Python 3.10.4 ('teuto')",
   "language": "python",
   "name": "python3"
  },
  "language_info": {
   "codemirror_mode": {
    "name": "ipython",
    "version": 3
   },
   "file_extension": ".py",
   "mimetype": "text/x-python",
   "name": "python",
   "nbconvert_exporter": "python",
   "pygments_lexer": "ipython3",
   "version": "3.10.4"
  },
  "orig_nbformat": 4,
  "vscode": {
   "interpreter": {
    "hash": "72f2d73a90e9c86498e4610b0297df37682081ab858435087aa2f185648368eb"
   }
  }
 },
 "nbformat": 4,
 "nbformat_minor": 2
}
