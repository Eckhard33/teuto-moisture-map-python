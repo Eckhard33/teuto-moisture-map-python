{
 "cells": [
  {
   "cell_type": "code",
   "execution_count": 1,
   "metadata": {},
   "outputs": [],
   "source": [
    "import os, sys\n",
    "sys.path.insert(0, os.path.abspath('src'))"
   ]
  },
  {
   "cell_type": "code",
   "execution_count": 2,
   "metadata": {},
   "outputs": [],
   "source": [
    "from dwd_stations import get_stations, neares_active_station, neares_station, get_precipitation"
   ]
  },
  {
   "cell_type": "code",
   "execution_count": 3,
   "metadata": {},
   "outputs": [
    {
     "data": {
      "text/plain": [
       "[DWDStation(station_id='19436', data_since=datetime.date(2022, 4, 1), data_until=datetime.date(2022, 7, 21), height=631, lon=50.2073, lat=12.3003, name='Brambach, Bad-Hohendorf', state='Sachsen', historic_precipitation_dataset_url=None),\n",
       " DWDStation(station_id='19439', data_since=datetime.date(1931, 1, 1), data_until=datetime.date(1957, 12, 31), height=450, lon=49.7542, lat=7.0523, name='Deuselbach/Hunsrück', state='Rheinland-Pfalz', historic_precipitation_dataset_url=None),\n",
       " DWDStation(station_id='19472', data_since=datetime.date(1951, 1, 1), data_until=datetime.date(2005, 12, 31), height=268, lon=49.7089, lat=10.9006, name='Adelsdorf', state='Bayern', historic_precipitation_dataset_url=None)]"
      ]
     },
     "execution_count": 3,
     "metadata": {},
     "output_type": "execute_result"
    }
   ],
   "source": [
    "get_stations()[-3:]"
   ]
  },
  {
   "cell_type": "code",
   "execution_count": 4,
   "metadata": {},
   "outputs": [
    {
     "data": {
      "text/plain": [
       "DWDStation(station_id='00486', data_since=datetime.date(1941, 1, 1), data_until=datetime.date(2007, 12, 31), height=155, lon=51.9833, lat=8.5167, name='Bielefeld-Brackwede', state='Nordrhein-Westfalen', historic_precipitation_dataset_url='https://opendata.dwd.de/climate_environment/CDC/observations_germany/climate/daily/more_precip/historical/tageswerte_RR_00486_19410101_20071231_hist.zip')"
      ]
     },
     "execution_count": 4,
     "metadata": {},
     "output_type": "execute_result"
    }
   ],
   "source": [
    "neares_station(52,8.53)"
   ]
  },
  {
   "cell_type": "code",
   "execution_count": 5,
   "metadata": {},
   "outputs": [
    {
     "data": {
      "text/plain": [
       "DWDStation(station_id='00488', data_since=datetime.date(1941, 1, 1), data_until=datetime.date(2022, 7, 21), height=127, lon=51.9394, lat=8.5932, name='Bielefeld-Sennestadt', state='Nordrhein-Westfalen', historic_precipitation_dataset_url='https://opendata.dwd.de/climate_environment/CDC/observations_germany/climate/daily/more_precip/historical/tageswerte_RR_00488_19410101_20211231_hist.zip')"
      ]
     },
     "execution_count": 5,
     "metadata": {},
     "output_type": "execute_result"
    }
   ],
   "source": [
    "neares_active_station(52,8.53)"
   ]
  },
  {
   "cell_type": "code",
   "execution_count": 6,
   "metadata": {},
   "outputs": [
    {
     "name": "stdout",
     "output_type": "stream",
     "text": [
      "2021-12-17: 1.0\n",
      "2021-12-18: 1.4\n",
      "2021-12-19: 1.5\n",
      "2021-12-20: 0.0\n",
      "2021-12-21: 0.0\n",
      "2021-12-22: 0.0\n",
      "2021-12-23: 12.8\n",
      "2021-12-24: 4.4\n",
      "2021-12-25: 0.0\n",
      "2021-12-26: 0.2\n",
      "2021-12-27: 0.7\n",
      "2021-12-28: 5.0\n",
      "2021-12-29: 7.3\n",
      "2021-12-30: 2.1\n",
      "2021-12-31: 0.6\n"
     ]
    }
   ],
   "source": [
    "data = get_precipitation(neares_active_station(52,8.53))\n",
    "for x in data[-15:]:\n",
    "        print(f\"{x.date}: {x.precipitation}\")"
   ]
  },
  {
   "cell_type": "code",
   "execution_count": 7,
   "metadata": {},
   "outputs": [
    {
     "data": {
      "text/plain": [
       "[111.39999999999999,\n",
       " 104.8,\n",
       " 97.19999999999997,\n",
       " 92.59999999999998,\n",
       " 92.59999999999998,\n",
       " 105.39999999999998,\n",
       " 106.99999999999999,\n",
       " 106.99999999999999,\n",
       " 107.19999999999999,\n",
       " 107.89999999999999,\n",
       " 112.89999999999999,\n",
       " 119.19999999999999,\n",
       " 117.39999999999999,\n",
       " 117.99999999999999]"
      ]
     },
     "execution_count": 7,
     "metadata": {},
     "output_type": "execute_result"
    }
   ],
   "source": [
    "from models import PrecipitationMeasurment\n",
    "from typing import List\n",
    "def window_sum(data: List[PrecipitationMeasurment], window_size: int = 30):\n",
    "    return [sum(x.precipitation for x in data[i:i+window_size]) for i in range(len(data) - (window_size-1))]\n",
    "\n",
    "window_sum(data, 60)[-14:]"
   ]
  }
 ],
 "metadata": {
  "kernelspec": {
   "display_name": "Python 3.9.5 ('p39a')",
   "language": "python",
   "name": "python3"
  },
  "language_info": {
   "codemirror_mode": {
    "name": "ipython",
    "version": 3
   },
   "file_extension": ".py",
   "mimetype": "text/x-python",
   "name": "python",
   "nbconvert_exporter": "python",
   "pygments_lexer": "ipython3",
   "version": "3.9.5"
  },
  "orig_nbformat": 4,
  "vscode": {
   "interpreter": {
    "hash": "cf6ad6b716785766515bc09f86bd52b49b015e9022b7af2fcc36c7d5c688687b"
   }
  }
 },
 "nbformat": 4,
 "nbformat_minor": 2
}
